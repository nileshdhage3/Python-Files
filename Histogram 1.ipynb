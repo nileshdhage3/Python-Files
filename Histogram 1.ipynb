{
 "cells": [
  {
   "cell_type": "code",
   "execution_count": 1,
   "id": "407cd6dd",
   "metadata": {},
   "outputs": [],
   "source": [
    "import matplotlib.pyplot as plt\n",
    "import numpy as np\n",
    "import random"
   ]
  },
  {
   "cell_type": "code",
   "execution_count": 3,
   "id": "8d237b16",
   "metadata": {},
   "outputs": [],
   "source": [
    "age=np.random.randint(10,50,(50))"
   ]
  },
  {
   "cell_type": "code",
   "execution_count": 4,
   "id": "3534698b",
   "metadata": {},
   "outputs": [
    {
     "data": {
      "text/plain": [
       "array([27, 48, 10, 12, 46, 44, 15, 29, 43, 41, 21, 26, 12, 12, 33, 43, 45,\n",
       "       27, 33, 46, 21, 22, 18, 31, 34, 47, 33, 25, 29, 41, 28, 25, 16, 34,\n",
       "       17, 40, 29, 27, 15, 15, 14, 30, 23, 47, 42, 16, 45, 24, 33, 38])"
      ]
     },
     "execution_count": 4,
     "metadata": {},
     "output_type": "execute_result"
    }
   ],
   "source": [
    "age"
   ]
  },
  {
   "cell_type": "code",
   "execution_count": 5,
   "id": "7e819467",
   "metadata": {},
   "outputs": [
    {
     "data": {
      "text/plain": [
       "(array([4., 7., 3., 5., 5., 5., 6., 2., 6., 7.]),\n",
       " array([10. , 13.8, 17.6, 21.4, 25.2, 29. , 32.8, 36.6, 40.4, 44.2, 48. ]),\n",
       " <BarContainer object of 10 artists>)"
      ]
     },
     "execution_count": 5,
     "metadata": {},
     "output_type": "execute_result"
    },
    {
     "data": {
      "image/png": "[encoded data removed]",
      "text/plain": [
       "<Figure size 432x288 with 1 Axes>"
      ]
     },
     "metadata": {
      "needs_background": "light"
     },
     "output_type": "display_data"
    }
   ],
   "source": [
    "plt.hist(age)"
   ]
  },
  {
   "cell_type": "code",
   "execution_count": null,
   "id": "8144e9c4",
   "metadata": {},
   "outputs": [],
   "source": []
  }
 ],
 "metadata": {
  "kernelspec": {
   "display_name": "Python 3",
   "language": "python",
   "name": "python3"
  },
  "language_info": {
   "codemirror_mode": {
    "name": "ipython",
    "version": 3
   },
   "file_extension": ".py",
   "mimetype": "text/x-python",
   "name": "python",
   "nbconvert_exporter": "python",
   "pygments_lexer": "ipython3",
   "version": "3.8.8"
  }
 },
 "nbformat": 4,
 "nbformat_minor": 5
}
