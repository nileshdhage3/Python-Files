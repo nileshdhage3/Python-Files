{
 "cells": [
  {
   "cell_type": "code",
   "execution_count": 40,
   "id": "9efbe7a1",
   "metadata": {},
   "outputs": [],
   "source": [
    "import pandas as pd"
   ]
  },
  {
   "cell_type": "code",
   "execution_count": 41,
   "id": "7aede06c",
   "metadata": {},
   "outputs": [],
   "source": [
    "admission_data=pd.read_csv(\"Admission_Predict.csv\")"
   ]
  },
  {
   "cell_type": "code",
   "execution_count": 42,
   "id": "76fc6953",
   "metadata": {},
   "outputs": [],
   "source": [
    "from sklearn.tree import DecisionTreeClassifier"
   ]
  },
  {
   "cell_type": "code",
   "execution_count": 43,
   "id": "5e67cbc3",
   "metadata": {
    "scrolled": true
   },
   "outputs": [
    {
     "data": {
      "text/html": [
       "<div>\n",
       "<style scoped>\n",
       "    .dataframe tbody tr th:only-of-type {\n",
       "        vertical-align: middle;\n",
       "    }\n",
       "\n",
       "    .dataframe tbody tr th {\n",
       "        vertical-align: top;\n",
       "    }\n",
       "\n",
       "    .dataframe thead th {\n",
       "        text-align: right;\n",
       "    }\n",
       "</style>\n",
       "<table border=\"1\" class=\"dataframe\">\n",
       "  <thead>\n",
       "    <tr style=\"text-align: right;\">\n",
       "      <th></th>\n",
       "      <th>Serial No.</th>\n",
       "      <th>Name</th>\n",
       "      <th>CET Score</th>\n",
       "      <th>Edu Percentage</th>\n",
       "      <th>Final Decision</th>\n",
       "    </tr>\n",
       "  </thead>\n",
       "  <tbody>\n",
       "    <tr>\n",
       "      <th>0</th>\n",
       "      <td>1</td>\n",
       "      <td>Aditi</td>\n",
       "      <td>127</td>\n",
       "      <td>85</td>\n",
       "      <td>Admission not Allowed</td>\n",
       "    </tr>\n",
       "    <tr>\n",
       "      <th>1</th>\n",
       "      <td>2</td>\n",
       "      <td>Advitiya</td>\n",
       "      <td>111</td>\n",
       "      <td>75</td>\n",
       "      <td>Admission not Allowed</td>\n",
       "    </tr>\n",
       "    <tr>\n",
       "      <th>2</th>\n",
       "      <td>3</td>\n",
       "      <td>Alagesan</td>\n",
       "      <td>174</td>\n",
       "      <td>99</td>\n",
       "      <td>Admission Allowed</td>\n",
       "    </tr>\n",
       "    <tr>\n",
       "      <th>3</th>\n",
       "      <td>4</td>\n",
       "      <td>Amrish</td>\n",
       "      <td>198</td>\n",
       "      <td>75</td>\n",
       "      <td>Admission Allowed</td>\n",
       "    </tr>\n",
       "    <tr>\n",
       "      <th>4</th>\n",
       "      <td>5</td>\n",
       "      <td>Aprativirya</td>\n",
       "      <td>100</td>\n",
       "      <td>78</td>\n",
       "      <td>Admission not Allowed</td>\n",
       "    </tr>\n",
       "  </tbody>\n",
       "</table>\n",
       "</div>"
      ],
      "text/plain": [
       "   Serial No.          Name  CET Score  Edu Percentage         Final Decision\n",
       "0           1        Aditi         127              85  Admission not Allowed\n",
       "1           2     Advitiya         111              75  Admission not Allowed\n",
       "2           3     Alagesan         174              99      Admission Allowed\n",
       "3           4        Amrish        198              75      Admission Allowed\n",
       "4           5  Aprativirya         100              78  Admission not Allowed"
      ]
     },
     "execution_count": 43,
     "metadata": {},
     "output_type": "execute_result"
    }
   ],
   "source": [
    "admission_data.head()"
   ]
  },
  {
   "cell_type": "code",
   "execution_count": 44,
   "id": "df00d135",
   "metadata": {},
   "outputs": [
    {
     "data": {
      "text/plain": [
       "array(['Admission not Allowed', 'Admission Allowed'], dtype=object)"
      ]
     },
     "execution_count": 44,
     "metadata": {},
     "output_type": "execute_result"
    }
   ],
   "source": [
    "# create input Dataset \n",
    "X=admission_data.drop(columns=['Serial No.','Name','Final Decision'])\n",
    "y=admission_data['Final Decision']\n",
    "model=DecisionTreeClassifier()\n",
    "model=model.fit(X,y)\n",
    "predictions=model.predict([[110,60],[168,75]])\n",
    "predictions"
   ]
  },
  {
   "cell_type": "code",
   "execution_count": null,
   "id": "d5bc8506",
   "metadata": {},
   "outputs": [],
   "source": []
  }
 ],
 "metadata": {
  "kernelspec": {
   "display_name": "Python 3",
   "language": "python",
   "name": "python3"
  },
  "language_info": {
   "codemirror_mode": {
    "name": "ipython",
    "version": 3
   },
   "file_extension": ".py",
   "mimetype": "text/x-python",
   "name": "python",
   "nbconvert_exporter": "python",
   "pygments_lexer": "ipython3",
   "version": "3.8.8"
  }
 },
 "nbformat": 4,
 "nbformat_minor": 5
}
