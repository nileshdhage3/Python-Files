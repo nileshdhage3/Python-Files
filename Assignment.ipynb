{
 "cells": [
  {
   "cell_type": "code",
   "execution_count": 24,
   "id": "3e707ebb",
   "metadata": {},
   "outputs": [
    {
     "name": "stdout",
     "output_type": "stream",
     "text": [
      "Please enter the number to find factorial5\n",
      "Factorial of entered number is  5\n",
      "Factorial of entered number is  10\n",
      "Factorial of entered number is  30\n",
      "Factorial of entered number is  120\n"
     ]
    }
   ],
   "source": [
    "# Assignment 1 - Find Factorial of number\n",
    "\n",
    "# Algoritham\n",
    "\n",
    "# 1. Accept the number to find factorial\n",
    "# 2. Perform the calculation of factorial\n",
    "# 3. Display Result\n",
    "\n",
    "num=int(input(\"Please enter the number to find factorial\"))\n",
    "if num<0:\n",
    "    print(\"Negative values does not have a factorial\")\n",
    "elif num==0:\n",
    "    print(\"Factorial of 0 is 1\")\n",
    "else:\n",
    "    for i in range(1,num):\n",
    "        num=num*i\n",
    "        print(\"Factorial of entered number is \",num)"
   ]
  },
  {
   "cell_type": "code",
   "execution_count": 32,
   "id": "4f8778c3",
   "metadata": {},
   "outputs": [
    {
     "name": "stdout",
     "output_type": "stream",
     "text": [
      "please enter string to count vowelsnilesh\n",
      "No. of vowels : 2\n"
     ]
    }
   ],
   "source": [
    "def vowel_count(str):\n",
    "    count = 0\n",
    "    vowel = set(\"aeiouAEIOU\")\n",
    "    for alphabet in str:\n",
    "        if alphabet in vowel:\n",
    "            count = count + 1\n",
    "    print(\"No. of vowels :\", count)\n",
    "str = input(\"please enter string to count vowels\")\n",
    "vowel_count(str)"
   ]
  },
  {
   "cell_type": "code",
   "execution_count": null,
   "id": "86649b16",
   "metadata": {},
   "outputs": [],
   "source": [
    "# Assignment 2 - Convert the given number from celcius to farenheit\n",
    "\n",
    "# Algoritham\n",
    "\n",
    "# 1. Accept the number to convert celcius to farenheit\n",
    "# 2. Perform the calculation\n",
    "# 3. Display Result\n",
    "\n",
    "cnumber=int(input(\"Please enter number in Celcius format\"))\n",
    "result=cnumber*1.8+32\n",
    "print(\"Entered number in farenheit is \", result)"
   ]
  }
 ],
 "metadata": {
  "kernelspec": {
   "display_name": "Python 3",
   "language": "python",
   "name": "python3"
  },
  "language_info": {
   "codemirror_mode": {
    "name": "ipython",
    "version": 3
   },
   "file_extension": ".py",
   "mimetype": "text/x-python",
   "name": "python",
   "nbconvert_exporter": "python",
   "pygments_lexer": "ipython3",
   "version": "3.8.8"
  }
 },
 "nbformat": 4,
 "nbformat_minor": 5
}
