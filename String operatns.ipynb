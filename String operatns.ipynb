{
 "cells": [
  {
   "cell_type": "code",
   "execution_count": 3,
   "id": "a690f9d0",
   "metadata": {},
   "outputs": [
    {
     "data": {
      "text/plain": [
       "'Hello World'"
      ]
     },
     "execution_count": 3,
     "metadata": {},
     "output_type": "execute_result"
    }
   ],
   "source": [
    "str='Hello World'\n",
    "str"
   ]
  },
  {
   "cell_type": "code",
   "execution_count": 7,
   "id": "02ffe868",
   "metadata": {},
   "outputs": [
    {
     "name": "stdout",
     "output_type": "stream",
     "text": [
      "llo W\n"
     ]
    }
   ],
   "source": [
    "print(str[2:7])\n"
   ]
  },
  {
   "cell_type": "code",
   "execution_count": 9,
   "id": "8160ab2d",
   "metadata": {},
   "outputs": [
    {
     "name": "stdout",
     "output_type": "stream",
     "text": [
      "Hello World\n"
     ]
    }
   ],
   "source": [
    "print(str[:])\n"
   ]
  },
  {
   "cell_type": "code",
   "execution_count": 10,
   "id": "121c5bb6",
   "metadata": {},
   "outputs": [
    {
     "name": "stdout",
     "output_type": "stream",
     "text": [
      "d\n"
     ]
    }
   ],
   "source": [
    "print(str[-1])\n"
   ]
  },
  {
   "cell_type": "code",
   "execution_count": 11,
   "id": "6624225b",
   "metadata": {},
   "outputs": [
    {
     "name": "stdout",
     "output_type": "stream",
     "text": [
      "l\n"
     ]
    }
   ],
   "source": [
    "print(str[-2])"
   ]
  },
  {
   "cell_type": "code",
   "execution_count": 12,
   "id": "cffee97c",
   "metadata": {},
   "outputs": [
    {
     "name": "stdout",
     "output_type": "stream",
     "text": [
      "r\n"
     ]
    }
   ],
   "source": [
    "print(str[-3])"
   ]
  },
  {
   "cell_type": "code",
   "execution_count": 13,
   "id": "df8b47b0",
   "metadata": {},
   "outputs": [
    {
     "name": "stdout",
     "output_type": "stream",
     "text": [
      "l\n"
     ]
    }
   ],
   "source": [
    "print(str[-8])"
   ]
  },
  {
   "cell_type": "code",
   "execution_count": 14,
   "id": "185955bc",
   "metadata": {},
   "outputs": [
    {
     "name": "stdout",
     "output_type": "stream",
     "text": [
      "H\n"
     ]
    }
   ],
   "source": [
    "print(str[-11])"
   ]
  },
  {
   "cell_type": "code",
   "execution_count": 17,
   "id": "f47f5f10",
   "metadata": {},
   "outputs": [
    {
     "name": "stdout",
     "output_type": "stream",
     "text": [
      "Hello World Test Concatenation\n"
     ]
    }
   ],
   "source": [
    "print(str+\" Test Concatenation\")"
   ]
  },
  {
   "cell_type": "code",
   "execution_count": 20,
   "id": "920577c0",
   "metadata": {},
   "outputs": [
    {
     "name": "stdout",
     "output_type": "stream",
     "text": [
      "Hello WorldHello World\n"
     ]
    }
   ],
   "source": [
    "print(str*2)"
   ]
  },
  {
   "cell_type": "code",
   "execution_count": 21,
   "id": "aeb27cb1",
   "metadata": {},
   "outputs": [
    {
     "name": "stdout",
     "output_type": "stream",
     "text": [
      "d\n"
     ]
    }
   ],
   "source": [
    "print(str[10])"
   ]
  },
  {
   "cell_type": "code",
   "execution_count": 22,
   "id": "619cf9b4",
   "metadata": {},
   "outputs": [
    {
     "name": "stdout",
     "output_type": "stream",
     "text": [
      "lo World\n"
     ]
    }
   ],
   "source": [
    "print(str[3:])"
   ]
  },
  {
   "cell_type": "code",
   "execution_count": 23,
   "id": "7aaf213f",
   "metadata": {},
   "outputs": [
    {
     "name": "stdout",
     "output_type": "stream",
     "text": [
      "llo W\n"
     ]
    }
   ],
   "source": [
    "print(str[2:7])"
   ]
  },
  {
   "cell_type": "code",
   "execution_count": 6,
   "id": "373f3691",
   "metadata": {},
   "outputs": [],
   "source": [
    "if 20 > 30:\n",
    "    print(\"hello\")"
   ]
  },
  {
   "cell_type": "code",
   "execution_count": 4,
   "id": "8f03e95e",
   "metadata": {},
   "outputs": [
    {
     "name": "stdout",
     "output_type": "stream",
     "text": [
      "80\n"
     ]
    }
   ],
   "source": [
    "storepp={'Sugar':80,'Oil':200,'Toothpaste':100,'Salt':40,'Peanuts':120}\n",
    "print(storepp['Sugar'])"
   ]
  },
  {
   "cell_type": "code",
   "execution_count": null,
   "id": "bd81df61",
   "metadata": {},
   "outputs": [],
   "source": []
  }
 ],
 "metadata": {
  "kernelspec": {
   "display_name": "Python 3",
   "language": "python",
   "name": "python3"
  },
  "language_info": {
   "codemirror_mode": {
    "name": "ipython",
    "version": 3
   },
   "file_extension": ".py",
   "mimetype": "text/x-python",
   "name": "python",
   "nbconvert_exporter": "python",
   "pygments_lexer": "ipython3",
   "version": "3.8.8"
  }
 },
 "nbformat": 4,
 "nbformat_minor": 5
}
