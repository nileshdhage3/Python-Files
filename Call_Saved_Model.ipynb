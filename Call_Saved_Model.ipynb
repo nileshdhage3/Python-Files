{
 "cells": [
  {
   "cell_type": "code",
   "execution_count": 4,
   "id": "faeadd2c",
   "metadata": {},
   "outputs": [
    {
     "data": {
      "text/plain": [
       "array(['HipHop'], dtype=object)"
      ]
     },
     "execution_count": 4,
     "metadata": {},
     "output_type": "execute_result"
    }
   ],
   "source": [
    "# import pandas\n",
    "import pandas as pd \n",
    "#import DecisionTreeClassifier algorithm from sklearn \n",
    "from sklearn.tree import DecisionTreeClassifier\n",
    "# To save the trained model\n",
    "import joblib as jb\n",
    "\n",
    "#select train test split from sklearn \n",
    "from sklearn.model_selection import train_test_split\n",
    "\n",
    "#import scoremetrics\n",
    "from sklearn.metrics import accuracy_score \n",
    "\n",
    "# Load the trained model\n",
    "model_Call=jb.load('music-recommender.joblib')\n",
    "\n",
    "# Test model predtiction  \n",
    "predictions =model_Call.predict([[25,1]])\n",
    "\n",
    "#accouracy_score function returns value between 0 to 1 \n",
    "#score = accuracy_score(y_test,predictions)\n",
    "#check the accuracy score  \n",
    "#score\n",
    "predictions"
   ]
  },
  {
   "cell_type": "code",
   "execution_count": null,
   "id": "1fc21f6c",
   "metadata": {},
   "outputs": [],
   "source": []
  }
 ],
 "metadata": {
  "kernelspec": {
   "display_name": "Python 3",
   "language": "python",
   "name": "python3"
  },
  "language_info": {
   "codemirror_mode": {
    "name": "ipython",
    "version": 3
   },
   "file_extension": ".py",
   "mimetype": "text/x-python",
   "name": "python",
   "nbconvert_exporter": "python",
   "pygments_lexer": "ipython3",
   "version": "3.8.8"
  }
 },
 "nbformat": 4,
 "nbformat_minor": 5
}
