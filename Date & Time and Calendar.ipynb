{
 "cells": [
  {
   "cell_type": "code",
   "execution_count": 1,
   "id": "fdc95042",
   "metadata": {},
   "outputs": [
    {
     "name": "stdout",
     "output_type": "stream",
     "text": [
      "1628142285.2464664\n"
     ]
    }
   ],
   "source": [
    "import time\n",
    "tick=time.time()\n",
    "print(tick)"
   ]
  },
  {
   "cell_type": "code",
   "execution_count": 2,
   "id": "907e23ae",
   "metadata": {},
   "outputs": [
    {
     "name": "stdout",
     "output_type": "stream",
     "text": [
      "current local time  Thu Aug  5 11:16:26 2021\n"
     ]
    }
   ],
   "source": [
    "import time\n",
    "localtime=time.asctime(time.localtime(time.time()))\n",
    "print(\"current local time \",localtime)"
   ]
  },
  {
   "cell_type": "code",
   "execution_count": 3,
   "id": "c5c13129",
   "metadata": {},
   "outputs": [
    {
     "name": "stdout",
     "output_type": "stream",
     "text": [
      "current local time  time.struct_time(tm_year=2021, tm_mon=8, tm_mday=5, tm_hour=11, tm_min=17, tm_sec=52, tm_wday=3, tm_yday=217, tm_isdst=0)\n"
     ]
    }
   ],
   "source": [
    "import time\n",
    "localtime=time.localtime(time.time())\n",
    "print(\"current local time \",localtime)"
   ]
  },
  {
   "cell_type": "code",
   "execution_count": 5,
   "id": "11b274dc",
   "metadata": {},
   "outputs": [
    {
     "name": "stdout",
     "output_type": "stream",
     "text": [
      "Here is the calender\n",
      "\n",
      "     August 2021\n",
      "Mo Tu We Th Fr Sa Su\n",
      "                   1\n",
      " 2  3  4  5  6  7  8\n",
      " 9 10 11 12 13 14 15\n",
      "16 17 18 19 20 21 22\n",
      "23 24 25 26 27 28 29\n",
      "30 31\n",
      "\n"
     ]
    }
   ],
   "source": [
    "import calendar\n",
    "cal=calendar.month(2021,8)\n",
    "print(\"Here is the calender\\n\\n\", cal)"
   ]
  },
  {
   "cell_type": "code",
   "execution_count": 11,
   "id": "df037f4a",
   "metadata": {},
   "outputs": [
    {
     "name": "stdout",
     "output_type": "stream",
     "text": [
      "Please enter your year of birth to calculate age1989\n",
      "32\n"
     ]
    }
   ],
   "source": [
    "from datetime import date\n",
    "today=date.today()\n",
    "\n",
    "#print(today)\n",
    "#print(today.year)\n",
    "#print(today.month)\n",
    "#print(today.day)\n",
    "\n",
    "year=int(input(\"Please enter your year of birth to calculate age\"))\n",
    "age=today.year-year\n",
    "print(age)"
   ]
  },
  {
   "cell_type": "code",
   "execution_count": 22,
   "id": "32a93b61",
   "metadata": {},
   "outputs": [
    {
     "name": "stdout",
     "output_type": "stream",
     "text": [
      "12:09:42\n"
     ]
    }
   ],
   "source": [
    "#from datetime import time\n",
    "#a=datetime.now()\n",
    "#timea=now.strftime(\"%H:%M:%S\")\n",
    "#print(timea)\n",
    "\n",
    "import time\n",
    "t = time.localtime()\n",
    "current_time = time.strftime(\"%H:%M:%S\", t)\n",
    "print(current_time)"
   ]
  },
  {
   "cell_type": "code",
   "execution_count": null,
   "id": "b06651b2",
   "metadata": {},
   "outputs": [],
   "source": []
  }
 ],
 "metadata": {
  "kernelspec": {
   "display_name": "Python 3",
   "language": "python",
   "name": "python3"
  },
  "language_info": {
   "codemirror_mode": {
    "name": "ipython",
    "version": 3
   },
   "file_extension": ".py",
   "mimetype": "text/x-python",
   "name": "python",
   "nbconvert_exporter": "python",
   "pygments_lexer": "ipython3",
   "version": "3.8.8"
  }
 },
 "nbformat": 4,
 "nbformat_minor": 5
}
