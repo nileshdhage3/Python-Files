{
 "cells": [
  {
   "cell_type": "code",
   "execution_count": 84,
   "id": "c517ec94",
   "metadata": {},
   "outputs": [
    {
     "data": {
      "text/plain": [
       "LinearRegression()"
      ]
     },
     "execution_count": 84,
     "metadata": {},
     "output_type": "execute_result"
    }
   ],
   "source": [
    "import pandas as pd\n",
    "from sklearn import linear_model\n",
    "\n",
    "from sklearn.metrics import accuracy_score \n",
    "import joblib as jb\n",
    "\n",
    "from sklearn.model_selection import train_test_split\n",
    "from sklearn.tree import DecisionTreeClassifier\n",
    "\n",
    "data=pd.read_csv(\"Engineering_graduate_salary.csv\")\n",
    "\n",
    "X = data[[\"openess_to_experience\"]]\n",
    "y = data[[\"Salary\"]]\n",
    "\n",
    "reg=linear_model.LinearRegression()\n",
    "reg.fit(X,y)"
   ]
  },
  {
   "cell_type": "code",
   "execution_count": 86,
   "id": "cd2ac54a",
   "metadata": {},
   "outputs": [
    {
     "data": {
      "text/plain": [
       "array([[305259.97341056]])"
      ]
     },
     "execution_count": 86,
     "metadata": {},
     "output_type": "execute_result"
    }
   ],
   "source": [
    "reg.predict([[0.2889]])"
   ]
  },
  {
   "cell_type": "code",
   "execution_count": 99,
   "id": "69464eef",
   "metadata": {},
   "outputs": [
    {
     "data": {
      "text/plain": [
       "0.051666666666666666"
      ]
     },
     "execution_count": 99,
     "metadata": {},
     "output_type": "execute_result"
    }
   ],
   "source": [
    "# Give training and tsting dataset to model \n",
    "X_train,X_test,y_train,y_test =train_test_split(X,y,test_size=0.2)\n",
    "\n",
    "\n",
    "#instantiate the DecisionTreeClassifier \n",
    "model= DecisionTreeClassifier()\n",
    "# Train the model with 80% of training data \n",
    "model= model.fit(X_train,y_train)\n",
    "\n",
    "# Test model predtiction  \n",
    "predictions =model.predict(X_test)\n",
    "#predictions\n",
    "\n",
    "#accouracy_score function returns value between 0 to 1 \n",
    "score = accuracy_score(y_test,predictions)  \n",
    "score"
   ]
  },
  {
   "cell_type": "code",
   "execution_count": null,
   "id": "1676c11e",
   "metadata": {},
   "outputs": [],
   "source": []
  }
 ],
 "metadata": {
  "kernelspec": {
   "display_name": "Python 3",
   "language": "python",
   "name": "python3"
  },
  "language_info": {
   "codemirror_mode": {
    "name": "ipython",
    "version": 3
   },
   "file_extension": ".py",
   "mimetype": "text/x-python",
   "name": "python",
   "nbconvert_exporter": "python",
   "pygments_lexer": "ipython3",
   "version": "3.8.8"
  }
 },
 "nbformat": 4,
 "nbformat_minor": 5
}
