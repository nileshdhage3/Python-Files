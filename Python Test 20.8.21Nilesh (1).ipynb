{
 "cells": [
  {
   "cell_type": "markdown",
   "id": "98efdf6e",
   "metadata": {},
   "source": [
    "Python Lab Test "
   ]
  },
  {
   "cell_type": "markdown",
   "id": "f0d963b6",
   "metadata": {},
   "source": [
    "Q.1 Declare variables to isslustrate the use of python data types "
   ]
  },
  {
   "cell_type": "code",
   "execution_count": 2,
   "id": "d6c9b358",
   "metadata": {},
   "outputs": [
    {
     "name": "stdout",
     "output_type": "stream",
     "text": [
      "10 \n",
      " Nilesh \n",
      " [4, ' Members', ' in', ' Data Science', ' Class'] \n",
      " (4, ' Members', ' in', ' Data Science', ' Class') \n",
      " {1: 'Yogesh sir', 2: 'Govinda', 3: 'Mangesh', 4: 'Nilesh'}\n"
     ]
    }
   ],
   "source": [
    "anum=10\n",
    "bstr='Nilesh'\n",
    "clst=[4,' Members',' in',' Data Science',' Class']\n",
    "dtuples=(4,' Members',' in',' Data Science',' Class')\n",
    "edict={1:'Yogesh sir',2:'Govinda',3:'Mangesh',4:'Nilesh'}\n",
    "\n",
    "print(anum,\"\\n\",bstr,\"\\n\",clst,\"\\n\",dtuples,\"\\n\",edict)"
   ]
  },
  {
   "cell_type": "markdown",
   "id": "616b538b",
   "metadata": {},
   "source": [
    "Q.2 Write program to illustare use of for loop"
   ]
  },
  {
   "cell_type": "code",
   "execution_count": 15,
   "id": "6e658eff",
   "metadata": {},
   "outputs": [
    {
     "name": "stdout",
     "output_type": "stream",
     "text": [
      "Multiplication of 5\n",
      "5\n",
      "10\n",
      "15\n",
      "20\n",
      "25\n",
      "30\n",
      "35\n",
      "40\n",
      "45\n",
      "50\n"
     ]
    }
   ],
   "source": [
    "print(\"Multiplication of 5\")\n",
    "num=range(5,51,5)\n",
    "for i in num:\n",
    "    print(i)"
   ]
  },
  {
   "cell_type": "markdown",
   "id": "ea8f9070",
   "metadata": {},
   "source": [
    "Q. 3. Write code to show the CRUD opeartion of List "
   ]
  },
  {
   "cell_type": "code",
   "execution_count": 14,
   "id": "58d0edba",
   "metadata": {},
   "outputs": [
    {
     "name": "stdout",
     "output_type": "stream",
     "text": [
      "[1, 'Data Science', 2, 'Mangesh', 3, 'Govinda', 'Nilesh in Data Science']\n"
     ]
    }
   ],
   "source": [
    "mylist=[1,'Data Science',2,'Mangesh',3,'Govinda']\n",
    "mylist.append('Nilesh')\n",
    "mylist[6]='Nilesh in Data Science'\n",
    "mylist.append('Test string to delete')\n",
    "del mylist[7]\n",
    "print(mylist)"
   ]
  },
  {
   "cell_type": "markdown",
   "id": "f3b00948",
   "metadata": {},
   "source": [
    "Q.4 Write code to show the use of Dctionary "
   ]
  },
  {
   "cell_type": "code",
   "execution_count": 23,
   "id": "3e607706",
   "metadata": {},
   "outputs": [
    {
     "name": "stdout",
     "output_type": "stream",
     "text": [
      "Nilesh\n",
      "{1: 'Yogesh sir', 2: 'Govinda', 3: 'Mangesh', 4: 'Nilesh DS'}\n"
     ]
    }
   ],
   "source": [
    "mydict={1:'Yogesh sir',2:'Govinda',3:'Mangesh',4:'Nilesh'}\n",
    "mydict1={1:'Yogesh sir',2:'Govinda',3:'Mangesh',4:'Nilesh'}\n",
    "print(mydict[4])\n",
    "mydict[4]='Nilesh DS'\n",
    "del mydict1\n",
    "print(mydict)"
   ]
  },
  {
   "cell_type": "markdown",
   "id": "0b4a70b3",
   "metadata": {},
   "source": [
    "Q.5 Write a program for addtion of two numbers using function "
   ]
  },
  {
   "cell_type": "code",
   "execution_count": 7,
   "id": "4f3673ec",
   "metadata": {},
   "outputs": [
    {
     "name": "stdout",
     "output_type": "stream",
     "text": [
      "60\n"
     ]
    },
    {
     "data": {
      "text/plain": [
       "60"
      ]
     },
     "execution_count": 7,
     "metadata": {},
     "output_type": "execute_result"
    }
   ],
   "source": [
    "def addition(num1,num2):\n",
    "    c=num1+num2\n",
    "    print(c)\n",
    "    return c;\n",
    "    \n",
    "addition(40,20)"
   ]
  },
  {
   "cell_type": "code",
   "execution_count": null,
   "id": "cf068819",
   "metadata": {},
   "outputs": [],
   "source": [
    "Q.6 Explain the logical operators using example "
   ]
  },
  {
   "cell_type": "code",
   "execution_count": 40,
   "id": "2866cfd5",
   "metadata": {},
   "outputs": [
    {
     "name": "stdout",
     "output_type": "stream",
     "text": [
      "1st number40\n",
      "2nd number20\n",
      "3rd number30\n",
      "First entered number is not small\n"
     ]
    }
   ],
   "source": [
    "# Using And operator\n",
    "\n",
    "n1=int(input(\"1st number\"))\n",
    "n2=int(input(\"2nd number\"))\n",
    "n3=int(input(\"3rd number\"))\n",
    "if(n1<n2 and n1<n3):\n",
    "    print(\"First entered number is small\")\n",
    "else:\n",
    "    print(\"First entered number is not small\")"
   ]
  },
  {
   "cell_type": "code",
   "execution_count": 46,
   "id": "28659c18",
   "metadata": {},
   "outputs": [
    {
     "name": "stdout",
     "output_type": "stream",
     "text": [
      "1st number50\n",
      "2nd number20\n",
      "3rd number60\n",
      "False\n"
     ]
    }
   ],
   "source": [
    "# Using Or operator\n",
    "\n",
    "nm1=int(input(\"1st number\"))\n",
    "nm2=int(input(\"2nd number\"))\n",
    "nm3=int(input(\"3rd number\"))\n",
    "if(nm1<nm2 or nm1>nm3):\n",
    "    print(\"True\")\n",
    "else:\n",
    "    print(\"False\")"
   ]
  },
  {
   "cell_type": "code",
   "execution_count": 48,
   "id": "14dd52e4",
   "metadata": {},
   "outputs": [
    {
     "name": "stdout",
     "output_type": "stream",
     "text": [
      "True\n"
     ]
    }
   ],
   "source": [
    "# Using Not operator\n",
    "\n",
    "notnum=100\n",
    "if not notnum<50:\n",
    "    print(\"True\")\n",
    "else:\n",
    "    print(\"False\")"
   ]
  },
  {
   "cell_type": "code",
   "execution_count": null,
   "id": "6886c857",
   "metadata": {},
   "outputs": [],
   "source": []
  }
 ],
 "metadata": {
  "kernelspec": {
   "display_name": "Python 3",
   "language": "python",
   "name": "python3"
  },
  "language_info": {
   "codemirror_mode": {
    "name": "ipython",
    "version": 3
   },
   "file_extension": ".py",
   "mimetype": "text/x-python",
   "name": "python",
   "nbconvert_exporter": "python",
   "pygments_lexer": "ipython3",
   "version": "3.8.8"
  }
 },
 "nbformat": 4,
 "nbformat_minor": 5
}
