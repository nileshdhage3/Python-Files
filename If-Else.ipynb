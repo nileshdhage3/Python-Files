{
 "cells": [
  {
   "cell_type": "code",
   "execution_count": 3,
   "id": "43f3ca32",
   "metadata": {},
   "outputs": [
    {
     "name": "stdout",
     "output_type": "stream",
     "text": [
      "Please enter first number to compare4\n",
      "Please enter second number to compare45\n",
      "45  is greter than  4\n"
     ]
    }
   ],
   "source": [
    "# Program to check which number is larger\n",
    "\n",
    "#variable declaration and input from the user\n",
    "\n",
    "a=int(input(\"Please enter first number to compare\"))\n",
    "b=int(input(\"Please enter second number to compare\"))\n",
    "\n",
    "#Expression and statement using if - else\n",
    "\n",
    "if a>b:\n",
    "    print(a,\" is greter than \", b)\n",
    "else:\n",
    "    print(b,\" is greter than \", a)   "
   ]
  },
  {
   "cell_type": "code",
   "execution_count": 7,
   "id": "f12b98f4",
   "metadata": {},
   "outputs": [
    {
     "name": "stdout",
     "output_type": "stream",
     "text": [
      "Enter number to check-1\n",
      "You have entered negative number\n"
     ]
    }
   ],
   "source": [
    "# Program to check whether number is positive or negative\n",
    "\n",
    "# variable declaration and input from the user\n",
    "\n",
    "c=int(input(\"Enter number to check positive | negative\"))\n",
    "\n",
    "#Expression and statement using if - else\n",
    "\n",
    "if c<0:\n",
    "    print(\"You have entered negative number\")\n",
    "else:\n",
    "    print(\"You have entered positive number\")"
   ]
  },
  {
   "cell_type": "code",
   "execution_count": 9,
   "id": "2085efd9",
   "metadata": {},
   "outputs": [
    {
     "name": "stdout",
     "output_type": "stream",
     "text": [
      "11 is a prime number\n",
      "11 is a prime number\n",
      "11 is a prime number\n"
     ]
    }
   ],
   "source": [
    "# Program to check number is prime number or not\n",
    "\n",
    "#variable declaration \n",
    "num = 11\n",
    "\n",
    "#Expression and statement using if - else\n",
    "\n",
    "if num > 1:\n",
    "    for i in range(2, num//2):\n",
    "        if (num % i) == 0:\n",
    "            print(num, \"is not a prime number\")\n",
    "            break\n",
    "        else:\n",
    "            print(num, \"is a prime number\")\n",
    "else:\n",
    "    print(num, \"is not a prime number\")"
   ]
  },
  {
   "cell_type": "code",
   "execution_count": 11,
   "id": "b3554def",
   "metadata": {},
   "outputs": [
    {
     "name": "stdout",
     "output_type": "stream",
     "text": [
      "  Please enter your age to check eligibility for voting17\n",
      "You are not eligible for voting\n"
     ]
    }
   ],
   "source": [
    "# Program to check votiny eligibility\n",
    "\n",
    "#variable declaration and input from the user\n",
    "\n",
    "age=int(input(\"  Please enter your age to check eligibility for voting\"))\n",
    "\n",
    "#Expression and statement using if - else\n",
    "\n",
    "if age>=18:\n",
    "    print(\"You are eligible for voting\")\n",
    "else:\n",
    "    print(\"You are not eligible for voting\")"
   ]
  },
  {
   "cell_type": "code",
   "execution_count": 5,
   "id": "b25c2239",
   "metadata": {},
   "outputs": [
    {
     "name": "stdout",
     "output_type": "stream",
     "text": [
      "Enter the number to check even/odd11\n",
      "Entered number is even number\n"
     ]
    }
   ],
   "source": [
    "# Program to check number is even | odd\n",
    "\n",
    "#variable declaration and input from the user\n",
    "\n",
    "number=int(input(\"Enter the number to check even/odd\"))\n",
    "\n",
    "#Expression and statement using if - else\n",
    "#if number%2==0:  -->Step 1\n",
    "#if  number%2==1: --->Step 2\n",
    "if not number%2==0:\n",
    "    print(\"entered number is odd number\")\n",
    "else:\n",
    "    print(\"Entered number is even number\")"
   ]
  },
  {
   "cell_type": "code",
   "execution_count": 3,
   "id": "ab2c8266",
   "metadata": {},
   "outputs": [
    {
     "name": "stdout",
     "output_type": "stream",
     "text": [
      "  Please enter number between 11 to 205\n",
      "Out of range number entered\n"
     ]
    }
   ],
   "source": [
    "# Program to accept input from user within the given range\n",
    "\n",
    "#variable declaration and input from the user\n",
    "\n",
    "numchk=int(input(\"  Please enter number between 11 to 20\"))\n",
    "\n",
    "#Expression and statement using if - else and logical operators\n",
    "\n",
    "if numchk<=10 or numchk>20:\n",
    "    print(\"Out of range number entered\")\n",
    "else:\n",
    "    print(\"Entered correct number between 11 to 20\")"
   ]
  },
  {
   "cell_type": "code",
   "execution_count": 20,
   "id": "bef0e99c",
   "metadata": {},
   "outputs": [
    {
     "name": "stdout",
     "output_type": "stream",
     "text": [
      "Enter first number22\n",
      "Enter second number3\n",
      "Enter third number6\n",
      "First number is greter\n"
     ]
    }
   ],
   "source": [
    "# Program with using logical operator AND\n",
    "\n",
    "#variable declaration and input from the user\n",
    "\n",
    "x=int(input(\"Enter first number\"))\n",
    "y=int(input(\"Enter second number\"))\n",
    "z=int(input(\"Enter third number\"))\n",
    "\n",
    "#statement check using and operator\n",
    "\n",
    "if x>y and x>z:\n",
    "    print(\"First number is greter\")\n",
    "else:\n",
    "    print(\"First number is small\")"
   ]
  },
  {
   "cell_type": "code",
   "execution_count": 36,
   "id": "9cbda886",
   "metadata": {},
   "outputs": [
    {
     "name": "stdout",
     "output_type": "stream",
     "text": [
      "  enter first number to match15\n",
      "  enter second number to match15\n",
      "Equal\n"
     ]
    }
   ],
   "source": [
    "# Program with using logical operator NOT\n",
    "\n",
    "#variable declaration and input from the user\n",
    "\n",
    "p=int(input(\"  enter first number to match\"))\n",
    "q=int(input(\"  enter second number to match\"))\n",
    "\n",
    "#statement check using and operator and print result\n",
    "if p==q:\n",
    "    print(\"Equal\")\n",
    "if not p==q:\n",
    "    print(\"not equal\")"
   ]
  },
  {
   "cell_type": "code",
   "execution_count": null,
   "id": "3f97605b",
   "metadata": {},
   "outputs": [],
   "source": []
  }
 ],
 "metadata": {
  "kernelspec": {
   "display_name": "Python 3",
   "language": "python",
   "name": "python3"
  },
  "language_info": {
   "codemirror_mode": {
    "name": "ipython",
    "version": 3
   },
   "file_extension": ".py",
   "mimetype": "text/x-python",
   "name": "python",
   "nbconvert_exporter": "python",
   "pygments_lexer": "ipython3",
   "version": "3.8.8"
  }
 },
 "nbformat": 4,
 "nbformat_minor": 5
}
