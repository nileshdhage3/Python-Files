{
 "cells": [
  {
   "cell_type": "code",
   "execution_count": 1,
   "id": "74299d5c",
   "metadata": {},
   "outputs": [
    {
     "name": "stdout",
     "output_type": "stream",
     "text": [
      "[786, 2.23]\n"
     ]
    }
   ],
   "source": [
    "list=['abcd',786,2.23,'john',70.2]\n",
    "tinylist=[123,'john']\n",
    "print(list[1:3])"
   ]
  },
  {
   "cell_type": "code",
   "execution_count": 2,
   "id": "2862d928",
   "metadata": {},
   "outputs": [
    {
     "name": "stdout",
     "output_type": "stream",
     "text": [
      "['abcd', 786, 2.23, 'john', 70.2]\n"
     ]
    }
   ],
   "source": [
    "print(list)"
   ]
  },
  {
   "cell_type": "code",
   "execution_count": 3,
   "id": "32117121",
   "metadata": {},
   "outputs": [
    {
     "name": "stdout",
     "output_type": "stream",
     "text": [
      "[123, 'john']\n"
     ]
    }
   ],
   "source": [
    "print(tinylist)"
   ]
  },
  {
   "cell_type": "code",
   "execution_count": 4,
   "id": "e58b6a83",
   "metadata": {},
   "outputs": [
    {
     "name": "stdout",
     "output_type": "stream",
     "text": [
      "abcd\n"
     ]
    }
   ],
   "source": [
    "print(list[0])"
   ]
  },
  {
   "cell_type": "code",
   "execution_count": 5,
   "id": "1331fb56",
   "metadata": {},
   "outputs": [
    {
     "name": "stdout",
     "output_type": "stream",
     "text": [
      "['abcd', 786, 2.23]\n"
     ]
    }
   ],
   "source": [
    "print(list[:3])"
   ]
  },
  {
   "cell_type": "code",
   "execution_count": 7,
   "id": "0a9a0da1",
   "metadata": {},
   "outputs": [
    {
     "name": "stdout",
     "output_type": "stream",
     "text": [
      "[786, 2.23, 'john']\n"
     ]
    }
   ],
   "source": [
    "print(list[1:4])"
   ]
  },
  {
   "cell_type": "code",
   "execution_count": 8,
   "id": "101ab790",
   "metadata": {},
   "outputs": [
    {
     "name": "stdout",
     "output_type": "stream",
     "text": [
      "[123]\n"
     ]
    }
   ],
   "source": [
    "print(tinylist[0:1])"
   ]
  },
  {
   "cell_type": "code",
   "execution_count": 9,
   "id": "39b675a7",
   "metadata": {},
   "outputs": [
    {
     "name": "stdout",
     "output_type": "stream",
     "text": [
      "['abcd', 786, 2.23, 'john', 70.2, 123, 'john']\n"
     ]
    }
   ],
   "source": [
    "print(list+tinylist)"
   ]
  },
  {
   "cell_type": "code",
   "execution_count": 11,
   "id": "6f3e2c0a",
   "metadata": {
    "scrolled": true
   },
   "outputs": [
    {
     "name": "stdout",
     "output_type": "stream",
     "text": [
      "70.2\n"
     ]
    }
   ],
   "source": [
    "print(list[-1])"
   ]
  },
  {
   "cell_type": "code",
   "execution_count": 12,
   "id": "927d17ec",
   "metadata": {},
   "outputs": [
    {
     "name": "stdout",
     "output_type": "stream",
     "text": [
      "john\n"
     ]
    }
   ],
   "source": [
    "print(tinylist[-1])"
   ]
  },
  {
   "cell_type": "code",
   "execution_count": 13,
   "id": "a1eb0074",
   "metadata": {},
   "outputs": [],
   "source": [
    "list[3]='Nilesh'"
   ]
  },
  {
   "cell_type": "code",
   "execution_count": 14,
   "id": "cf4fb5d0",
   "metadata": {},
   "outputs": [
    {
     "name": "stdout",
     "output_type": "stream",
     "text": [
      "['abcd', 786, 2.23, 'Nilesh', 70.2]\n"
     ]
    }
   ],
   "source": [
    "print(list)"
   ]
  },
  {
   "cell_type": "code",
   "execution_count": 15,
   "id": "68dd533a",
   "metadata": {},
   "outputs": [
    {
     "name": "stdout",
     "output_type": "stream",
     "text": [
      "5\n"
     ]
    }
   ],
   "source": [
    "print(len(list))"
   ]
  },
  {
   "cell_type": "code",
   "execution_count": 16,
   "id": "31051b6e",
   "metadata": {},
   "outputs": [
    {
     "name": "stdout",
     "output_type": "stream",
     "text": [
      "2\n"
     ]
    }
   ],
   "source": [
    "print(len(tinylist))"
   ]
  },
  {
   "cell_type": "code",
   "execution_count": 24,
   "id": "a5f9ae1f",
   "metadata": {},
   "outputs": [],
   "source": [
    "list.append('Dhage')"
   ]
  },
  {
   "cell_type": "code",
   "execution_count": 25,
   "id": "3cf5ac28",
   "metadata": {},
   "outputs": [
    {
     "name": "stdout",
     "output_type": "stream",
     "text": [
      "['abcd', 786, 2.23, 'Nilesh', 70.2, 'Dhage']\n"
     ]
    }
   ],
   "source": [
    "print(list)"
   ]
  },
  {
   "cell_type": "code",
   "execution_count": 27,
   "id": "22b8e65b",
   "metadata": {},
   "outputs": [],
   "source": [
    "del list[5]"
   ]
  },
  {
   "cell_type": "code",
   "execution_count": 28,
   "id": "693f49fc",
   "metadata": {},
   "outputs": [
    {
     "name": "stdout",
     "output_type": "stream",
     "text": [
      "['abcd', 786, 2.23, 'Nilesh', 70.2]\n"
     ]
    }
   ],
   "source": [
    "print(list)"
   ]
  },
  {
   "cell_type": "code",
   "execution_count": 29,
   "id": "75c26ddd",
   "metadata": {},
   "outputs": [
    {
     "name": "stdout",
     "output_type": "stream",
     "text": [
      "2\n"
     ]
    }
   ],
   "source": [
    "newlist=(2,5,4,6,9,8)\n",
    "print(min(newlist))"
   ]
  },
  {
   "cell_type": "code",
   "execution_count": 30,
   "id": "d8221348",
   "metadata": {},
   "outputs": [
    {
     "name": "stdout",
     "output_type": "stream",
     "text": [
      "9\n"
     ]
    }
   ],
   "source": [
    "print(max(newlist))"
   ]
  },
  {
   "cell_type": "code",
   "execution_count": 34,
   "id": "118b711f",
   "metadata": {},
   "outputs": [
    {
     "name": "stdout",
     "output_type": "stream",
     "text": [
      "1\n"
     ]
    }
   ],
   "source": [
    "print(min(newlist)-1)"
   ]
  },
  {
   "cell_type": "code",
   "execution_count": 36,
   "id": "f4704f84",
   "metadata": {},
   "outputs": [
    {
     "name": "stdout",
     "output_type": "stream",
     "text": [
      "15\n"
     ]
    }
   ],
   "source": [
    "print(max(newlist)+6)"
   ]
  },
  {
   "cell_type": "code",
   "execution_count": 38,
   "id": "0753e9d9",
   "metadata": {},
   "outputs": [],
   "source": [
    "tuple=('abcd',786,2.23,'john',70.2)\n",
    "tinytuple=(123,'john')"
   ]
  },
  {
   "cell_type": "code",
   "execution_count": 39,
   "id": "cb88231b",
   "metadata": {},
   "outputs": [
    {
     "name": "stdout",
     "output_type": "stream",
     "text": [
      "('abcd', 786, 2.23, 'john', 70.2)\n",
      "(123, 'john')\n"
     ]
    }
   ],
   "source": [
    "print(tuple)\n",
    "print(tinytuple)"
   ]
  },
  {
   "cell_type": "code",
   "execution_count": 40,
   "id": "1d56ddb6",
   "metadata": {},
   "outputs": [
    {
     "name": "stdout",
     "output_type": "stream",
     "text": [
      "abcd\n",
      "john\n"
     ]
    }
   ],
   "source": [
    "print(tuple[0])\n",
    "print(tinytuple[1])"
   ]
  },
  {
   "cell_type": "code",
   "execution_count": 41,
   "id": "45865075",
   "metadata": {
    "scrolled": true
   },
   "outputs": [
    {
     "name": "stdout",
     "output_type": "stream",
     "text": [
      "('abcd', 786, 2.23)\n",
      "(123,)\n"
     ]
    }
   ],
   "source": [
    "print(tuple[0:3])\n",
    "print(tinytuple[0:1])"
   ]
  },
  {
   "cell_type": "code",
   "execution_count": 42,
   "id": "dc147c8c",
   "metadata": {},
   "outputs": [
    {
     "name": "stdout",
     "output_type": "stream",
     "text": [
      "('abcd', 786, 2.23, 'john', 70.2, 123, 'john')\n"
     ]
    }
   ],
   "source": [
    "print(tuple+tinytuple)"
   ]
  },
  {
   "cell_type": "code",
   "execution_count": 4,
   "id": "79ec1d8f",
   "metadata": {},
   "outputs": [],
   "source": [
    "acd=['abcd',786,2.23,'john',70.2]\n",
    "acd.insert(2,22)\n"
   ]
  },
  {
   "cell_type": "code",
   "execution_count": 5,
   "id": "5e368c95",
   "metadata": {},
   "outputs": [
    {
     "name": "stdout",
     "output_type": "stream",
     "text": [
      "['abcd', 786, 22, 2.23, 'john', 70.2]\n"
     ]
    }
   ],
   "source": [
    "print(acd)"
   ]
  },
  {
   "cell_type": "code",
   "execution_count": 1,
   "id": "f74682ce",
   "metadata": {},
   "outputs": [
    {
     "name": "stdout",
     "output_type": "stream",
     "text": [
      "[20, 5, 9, 4, 32, 65, 4]\n"
     ]
    }
   ],
   "source": [
    "slist=[20,5,9,4,32,65,4]\n",
    "print(slist)"
   ]
  },
  {
   "cell_type": "code",
   "execution_count": 2,
   "id": "5ea250ed",
   "metadata": {},
   "outputs": [
    {
     "name": "stdout",
     "output_type": "stream",
     "text": [
      "[4, 4, 5, 9, 20, 32, 65]\n"
     ]
    }
   ],
   "source": [
    "slist.sort()\n",
    "print(slist)"
   ]
  },
  {
   "cell_type": "code",
   "execution_count": 7,
   "id": "d5ff5c0f",
   "metadata": {},
   "outputs": [
    {
     "name": "stdout",
     "output_type": "stream",
     "text": [
      "[65, 32, 20, 9, 5, 4, 4]\n"
     ]
    }
   ],
   "source": [
    "slist.sort(reverse=True)\n",
    "print(slist)"
   ]
  },
  {
   "cell_type": "code",
   "execution_count": 8,
   "id": "38c5362d",
   "metadata": {},
   "outputs": [
    {
     "name": "stdout",
     "output_type": "stream",
     "text": [
      "['Mangesh', 'Govinda', 'Vijay', 'Prashant', 'Santosh']\n"
     ]
    }
   ],
   "source": [
    "frndlist=['Mangesh','Govinda','Vijay','Prashant','Santosh']\n",
    "print(frndlist)\n"
   ]
  },
  {
   "cell_type": "code",
   "execution_count": 9,
   "id": "a81ee2da",
   "metadata": {},
   "outputs": [
    {
     "name": "stdout",
     "output_type": "stream",
     "text": [
      "['Govinda', 'Mangesh', 'Prashant', 'Santosh', 'Vijay']\n"
     ]
    }
   ],
   "source": [
    "frndlist.sort()\n",
    "print(frndlist)"
   ]
  },
  {
   "cell_type": "code",
   "execution_count": 10,
   "id": "da359c0c",
   "metadata": {},
   "outputs": [
    {
     "name": "stdout",
     "output_type": "stream",
     "text": [
      "['Vijay', 'Santosh', 'Prashant', 'Mangesh', 'Govinda']\n"
     ]
    }
   ],
   "source": [
    "frndlist.sort(reverse=True)\n",
    "print(frndlist)"
   ]
  },
  {
   "cell_type": "code",
   "execution_count": 12,
   "id": "acb43778",
   "metadata": {},
   "outputs": [
    {
     "name": "stdout",
     "output_type": "stream",
     "text": [
      "['Vijay', 'Santosh', 'Prashant', 'Mangesh', 'Govinda']\n"
     ]
    }
   ],
   "source": [
    "print(frndlist)"
   ]
  },
  {
   "cell_type": "code",
   "execution_count": 13,
   "id": "9f0b218e",
   "metadata": {},
   "outputs": [
    {
     "name": "stdout",
     "output_type": "stream",
     "text": [
      "['Vijay', 'Santosh', 'Prashant', 'Mangesh', 'Govinda']\n"
     ]
    }
   ],
   "source": [
    "newflist=frndlist.copy()\n",
    "print(newflist)"
   ]
  },
  {
   "cell_type": "code",
   "execution_count": 14,
   "id": "1e47f120",
   "metadata": {},
   "outputs": [
    {
     "name": "stdout",
     "output_type": "stream",
     "text": [
      "['a', 'e', 'i', 'o', 'u', 'i']\n"
     ]
    }
   ],
   "source": [
    "vowels=['a','e','i','o','u','i']\n",
    "print(vowels)\n"
   ]
  },
  {
   "cell_type": "code",
   "execution_count": 15,
   "id": "0dd3a775",
   "metadata": {},
   "outputs": [
    {
     "data": {
      "text/plain": [
       "2"
      ]
     },
     "execution_count": 15,
     "metadata": {},
     "output_type": "execute_result"
    }
   ],
   "source": [
    "vowels.count('i')"
   ]
  },
  {
   "cell_type": "code",
   "execution_count": 16,
   "id": "d5f18cc9",
   "metadata": {},
   "outputs": [
    {
     "data": {
      "text/plain": [
       "0"
      ]
     },
     "execution_count": 16,
     "metadata": {},
     "output_type": "execute_result"
    }
   ],
   "source": [
    "vowels.count('d')"
   ]
  },
  {
   "cell_type": "code",
   "execution_count": 17,
   "id": "7a58d5f7",
   "metadata": {},
   "outputs": [
    {
     "name": "stdout",
     "output_type": "stream",
     "text": [
      "My Name Is Nilesh\n"
     ]
    }
   ],
   "source": [
    "strvowels=\"My Name Is Nilesh\"\n",
    "print(strvowels)"
   ]
  },
  {
   "cell_type": "code",
   "execution_count": 18,
   "id": "c52aaed8",
   "metadata": {},
   "outputs": [
    {
     "data": {
      "text/plain": [
       "1"
      ]
     },
     "execution_count": 18,
     "metadata": {},
     "output_type": "execute_result"
    }
   ],
   "source": [
    "strvowels.count('i')"
   ]
  },
  {
   "cell_type": "code",
   "execution_count": 19,
   "id": "bbd9fd7f",
   "metadata": {},
   "outputs": [
    {
     "data": {
      "text/plain": [
       "2"
      ]
     },
     "execution_count": 19,
     "metadata": {},
     "output_type": "execute_result"
    }
   ],
   "source": [
    "strvowels.count('e')"
   ]
  },
  {
   "cell_type": "code",
   "execution_count": 20,
   "id": "ab55f045",
   "metadata": {},
   "outputs": [
    {
     "name": "stdout",
     "output_type": "stream",
     "text": [
      "['Vijay', 'Santosh', 'Prashant', 'Mangesh', 'Govinda']\n"
     ]
    }
   ],
   "source": [
    "print(frndlist)"
   ]
  },
  {
   "cell_type": "code",
   "execution_count": 21,
   "id": "8fcfa2d8",
   "metadata": {},
   "outputs": [],
   "source": [
    "poplist=frndlist.pop(2)"
   ]
  },
  {
   "cell_type": "code",
   "execution_count": 22,
   "id": "99a1d751",
   "metadata": {},
   "outputs": [
    {
     "name": "stdout",
     "output_type": "stream",
     "text": [
      "Prashant\n"
     ]
    }
   ],
   "source": [
    "print(poplist)"
   ]
  },
  {
   "cell_type": "code",
   "execution_count": 23,
   "id": "a3967792",
   "metadata": {},
   "outputs": [
    {
     "name": "stdout",
     "output_type": "stream",
     "text": [
      "Prashant\n"
     ]
    }
   ],
   "source": [
    "print(poplist)"
   ]
  },
  {
   "cell_type": "code",
   "execution_count": 24,
   "id": "4a06e12e",
   "metadata": {},
   "outputs": [
    {
     "name": "stdout",
     "output_type": "stream",
     "text": [
      "['Vijay', 'Santosh', 'Mangesh', 'Govinda']\n"
     ]
    }
   ],
   "source": [
    "print(frndlist)"
   ]
  },
  {
   "cell_type": "code",
   "execution_count": 25,
   "id": "2a055b74",
   "metadata": {},
   "outputs": [
    {
     "name": "stdout",
     "output_type": "stream",
     "text": [
      "['Vijay', 'Mangesh', 'Govinda']\n"
     ]
    }
   ],
   "source": [
    "frndlist.remove('Santosh')\n",
    "print(frndlist)"
   ]
  },
  {
   "cell_type": "code",
   "execution_count": 26,
   "id": "0e9d6953",
   "metadata": {},
   "outputs": [],
   "source": [
    "frndlist.clear()"
   ]
  },
  {
   "cell_type": "code",
   "execution_count": 27,
   "id": "1d2ee63e",
   "metadata": {},
   "outputs": [
    {
     "name": "stdout",
     "output_type": "stream",
     "text": [
      "[]\n"
     ]
    }
   ],
   "source": [
    "print(frndlist)"
   ]
  },
  {
   "cell_type": "code",
   "execution_count": 34,
   "id": "53264059",
   "metadata": {},
   "outputs": [],
   "source": [
    "frndlist='s','d'"
   ]
  },
  {
   "cell_type": "code",
   "execution_count": 33,
   "id": "9de8acef",
   "metadata": {},
   "outputs": [
    {
     "name": "stdout",
     "output_type": "stream",
     "text": [
      "('s', 'd')\n"
     ]
    }
   ],
   "source": [
    "print(frndlist)"
   ]
  },
  {
   "cell_type": "code",
   "execution_count": null,
   "id": "e2ae716c",
   "metadata": {},
   "outputs": [],
   "source": []
  }
 ],
 "metadata": {
  "kernelspec": {
   "display_name": "Python 3",
   "language": "python",
   "name": "python3"
  },
  "language_info": {
   "codemirror_mode": {
    "name": "ipython",
    "version": 3
   },
   "file_extension": ".py",
   "mimetype": "text/x-python",
   "name": "python",
   "nbconvert_exporter": "python",
   "pygments_lexer": "ipython3",
   "version": "3.8.8"
  }
 },
 "nbformat": 4,
 "nbformat_minor": 5
}
