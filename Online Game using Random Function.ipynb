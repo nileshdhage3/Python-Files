{
 "cells": [
  {
   "cell_type": "code",
   "execution_count": 2,
   "id": "7bd633a6",
   "metadata": {},
   "outputs": [
    {
     "name": "stdout",
     "output_type": "stream",
     "text": [
      "Please enter number of your choice between 1 to 2010\n",
      "You Won\n"
     ]
    }
   ],
   "source": [
    "# Program to create basic game application using default list\n",
    "\n",
    "# Default list declaration and input from the user\n",
    "\n",
    "storednum=[3,6,7,10,14,16,19,20]\n",
    "usernum=int(input(\"Please enter number of your choice between 1 to 20\"))\n",
    "\n",
    "# Checking user input number is available in list or not and print result as per matching data\n",
    "\n",
    "if usernum in storednum:\n",
    "    print(\"You Won\")\n",
    "else:\n",
    "    print(\"You Lose\")"
   ]
  },
  {
   "cell_type": "code",
   "execution_count": 9,
   "id": "6ac2cb18",
   "metadata": {},
   "outputs": [
    {
     "name": "stdout",
     "output_type": "stream",
     "text": [
      "7\n",
      "Please enter number of your choice between 0 to 47\n",
      "You Won\n"
     ]
    }
   ],
   "source": [
    "# Program to create basic game application using random numbers\n",
    "\n",
    "# Random number generation and allowing input from the user\n",
    "\n",
    "import random\n",
    "randonnumbers=random.randint(0,4)\n",
    "print(randonnumbers)\n",
    "usernumber=int(input(\"Please enter number of your choice between 0 to 4\"))\n",
    "# Checking user input number is matching with random number or not and print result as per matching data\n",
    "\n",
    "if usernumber==randonnumbers:\n",
    "    print(\"You Won\")\n",
    "else:\n",
    "    print(\"You Lose\")"
   ]
  },
  {
   "cell_type": "code",
   "execution_count": 22,
   "id": "d8cbebaa",
   "metadata": {},
   "outputs": [
    {
     "name": "stdout",
     "output_type": "stream",
     "text": [
      "Please enter number of your choice between 1 to 206\n",
      "Congratulations... You Won  Cooker\n"
     ]
    }
   ],
   "source": [
    "# Program to create basic game application using default dictionary and prizes\n",
    "\n",
    "# Default dictionary declaration and input from the user\n",
    "\n",
    "storednumdict={3:'Mixer',6:'Cooker',7:'Table Fan',10:'Ceiling Fan',14:'Hair dryer',16:'Makeup kit',19:'Fridge',20:'TV'}\n",
    "num=int(input(\"Please enter number of your choice between 1 to 20\"))\n",
    "\n",
    "# Checking user input number is available in dictionary or not and print result as per matching data\n",
    "\n",
    "if num in storednumdict:\n",
    "    print(\"Congratulations... You Won \",storednumdict[num])\n",
    "else:\n",
    "    print(\"You Lose\")"
   ]
  },
  {
   "cell_type": "code",
   "execution_count": null,
   "id": "79001072",
   "metadata": {},
   "outputs": [],
   "source": [
    "#  Assignment 08/04/2021\n",
    "\n",
    "#  1. Store product details with price (Datatype - Dictionary datatype we can use)\n",
    "#  2. Discount details: total amount more than 2000 then 10% discount,\n",
    "#     amount between 1000 to 1999 then 7% discount,\n",
    "#     Between 500 to 999 then 5% discount,\n",
    "#     below 500 50 Rs discount *(Nested if-else can be use)\n",
    "#  3. Accept user input for product details \n",
    "#     (quantity and product / product ID) *(Input fuction & save the value)\n",
    "#  4. perform the calculation *(List can be used to store product * qty)\n",
    "#  5. Net amount to be paid by customer\n",
    "#  6. Total discount amount \n",
    "#  7. Final bill (*Net amount = total bill - discount)\n"
   ]
  }
 ],
 "metadata": {
  "kernelspec": {
   "display_name": "Python 3",
   "language": "python",
   "name": "python3"
  },
  "language_info": {
   "codemirror_mode": {
    "name": "ipython",
    "version": 3
   },
   "file_extension": ".py",
   "mimetype": "text/x-python",
   "name": "python",
   "nbconvert_exporter": "python",
   "pygments_lexer": "ipython3",
   "version": "3.8.8"
  }
 },
 "nbformat": 4,
 "nbformat_minor": 5
}
