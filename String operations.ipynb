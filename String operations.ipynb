{
 "cells": [
  {
   "cell_type": "code",
   "execution_count": null,
   "id": "1fc24396",
   "metadata": {},
   "outputs": [],
   "source": [
    "p"
   ]
  },
  {
   "cell_type": "code",
   "execution_count": 2,
   "id": "8313f936",
   "metadata": {},
   "outputs": [],
   "source": [
    "p=\"Good morning\"\n",
    "r=\"Welcome\""
   ]
  },
  {
   "cell_type": "code",
   "execution_count": 3,
   "id": "026bc380",
   "metadata": {},
   "outputs": [
    {
     "name": "stdout",
     "output_type": "stream",
     "text": [
      "Good morning\n"
     ]
    }
   ],
   "source": [
    "print(p)"
   ]
  },
  {
   "cell_type": "code",
   "execution_count": 4,
   "id": "8712dbcd",
   "metadata": {},
   "outputs": [
    {
     "name": "stdout",
     "output_type": "stream",
     "text": [
      "Welcome\n"
     ]
    }
   ],
   "source": [
    "print(r)"
   ]
  },
  {
   "cell_type": "code",
   "execution_count": 8,
   "id": "542a4dbb",
   "metadata": {},
   "outputs": [
    {
     "name": "stdout",
     "output_type": "stream",
     "text": [
      "Hello Mangesh Good morning\n"
     ]
    }
   ],
   "source": [
    "print(\"Hello Mangesh \"+p)"
   ]
  },
  {
   "cell_type": "code",
   "execution_count": 7,
   "id": "b7c078f6",
   "metadata": {},
   "outputs": [
    {
     "name": "stdout",
     "output_type": "stream",
     "text": [
      "Hello Mangesh Good morning\n"
     ]
    }
   ],
   "source": [
    "s=\"Hello Mangesh \"\n",
    "print(s+p)"
   ]
  },
  {
   "cell_type": "code",
   "execution_count": 10,
   "id": "a1a17564",
   "metadata": {},
   "outputs": [
    {
     "name": "stdout",
     "output_type": "stream",
     "text": [
      "g\n"
     ]
    }
   ],
   "source": [
    "print(p[-1])"
   ]
  },
  {
   "cell_type": "code",
   "execution_count": 5,
   "id": "38a9e145",
   "metadata": {},
   "outputs": [
    {
     "name": "stdout",
     "output_type": "stream",
     "text": [
      "WelcomeWelcomeWelcomeWelcomeWelcome\n"
     ]
    }
   ],
   "source": [
    "r=\"Welcome\"\n",
    "print(r*5)"
   ]
  },
  {
   "cell_type": "code",
   "execution_count": null,
   "id": "d235bc5e",
   "metadata": {},
   "outputs": [],
   "source": []
  }
 ],
 "metadata": {
  "kernelspec": {
   "display_name": "Python 3",
   "language": "python",
   "name": "python3"
  },
  "language_info": {
   "codemirror_mode": {
    "name": "ipython",
    "version": 3
   },
   "file_extension": ".py",
   "mimetype": "text/x-python",
   "name": "python",
   "nbconvert_exporter": "python",
   "pygments_lexer": "ipython3",
   "version": "3.8.8"
  }
 },
 "nbformat": 4,
 "nbformat_minor": 5
}
