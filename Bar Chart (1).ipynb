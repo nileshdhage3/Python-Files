{
 "cells": [
  {
   "cell_type": "code",
   "execution_count": 58,
   "id": "48a18d02",
   "metadata": {},
   "outputs": [],
   "source": [
    "import matplotlib.pyplot as plt\n",
    "import numpy as np\n",
    "from matplotlib import style"
   ]
  },
  {
   "cell_type": "code",
   "execution_count": 59,
   "id": "d6d8d52e",
   "metadata": {},
   "outputs": [],
   "source": [
    "classes=[\"DS\",\"Python\",\"ML\"]\n",
    "class1=[98,78,85]\n",
    "class2=[23,26,54]\n",
    "class3=[45,66,70]"
   ]
  },
  {
   "cell_type": "code",
   "execution_count": 60,
   "id": "7b45b5ea",
   "metadata": {},
   "outputs": [
    {
     "data": {
      "image/png": "[encoded data removed]",
      "text/plain": [
       "<Figure size 720x360 with 1 Axes>"
      ]
     },
     "metadata": {
      "needs_background": "light"
     },
     "output_type": "display_data"
    }
   ],
   "source": [
    "plt.figure(figsize=(10,5))\n",
    "classes_index=np.arange(len(classes))\n",
    "width=0.3\n",
    "\n",
    "plt.bar(classes_index, class1, width, color='b', label='Class 1')\n",
    "\n",
    "plt.bar(classes_index + width, class2, width, color='g', label='Class 2')\n",
    "\n",
    "plt.bar(classes_index + width + width, class3, width, color='r', label='Class 2')\n",
    "\n",
    "plt.xticks(classes_index + width, classes, rotation=15)\n",
    "plt.show()"
   ]
  },
  {
   "cell_type": "code",
   "execution_count": null,
   "id": "afa006d5",
   "metadata": {},
   "outputs": [],
   "source": []
  }
 ],
 "metadata": {
  "kernelspec": {
   "display_name": "Python 3",
   "language": "python",
   "name": "python3"
  },
  "language_info": {
   "codemirror_mode": {
    "name": "ipython",
    "version": 3
   },
   "file_extension": ".py",
   "mimetype": "text/x-python",
   "name": "python",
   "nbconvert_exporter": "python",
   "pygments_lexer": "ipython3",
   "version": "3.8.8"
  }
 },
 "nbformat": 4,
 "nbformat_minor": 5
}
