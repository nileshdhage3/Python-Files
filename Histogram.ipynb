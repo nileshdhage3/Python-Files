{
 "cells": [
  {
   "cell_type": "code",
   "execution_count": 25,
   "id": "9704ad87",
   "metadata": {},
   "outputs": [],
   "source": [
    "import matplotlib.pyplot as plt\n",
    "import numpy as np\n",
    "import random"
   ]
  },
  {
   "cell_type": "code",
   "execution_count": 31,
   "id": "f5f37e21",
   "metadata": {},
   "outputs": [],
   "source": [
    "ml_age=np.random.randint(20,30,(10))"
   ]
  },
  {
   "cell_type": "code",
   "execution_count": 32,
   "id": "f597291d",
   "metadata": {},
   "outputs": [
    {
     "data": {
      "text/plain": [
       "array([21, 27, 22, 29, 22, 25, 29, 28, 24, 27])"
      ]
     },
     "execution_count": 32,
     "metadata": {},
     "output_type": "execute_result"
    }
   ],
   "source": [
    "ml_age"
   ]
  },
  {
   "cell_type": "code",
   "execution_count": 33,
   "id": "c6fa04ec",
   "metadata": {},
   "outputs": [],
   "source": [
    "ds_age=np.random.randint(20,30,(10))"
   ]
  },
  {
   "cell_type": "code",
   "execution_count": 46,
   "id": "169aee09",
   "metadata": {},
   "outputs": [
    {
     "data": {
      "image/png": "[encoded data removed]",
      "text/plain": [
       "<Figure size 432x288 with 1 Axes>"
      ]
     },
     "metadata": {
      "needs_background": "light"
     },
     "output_type": "display_data"
    }
   ],
   "source": [
    "plt.hist([ml_age,ds_age],bins=6,rwidth=0.5, orientation='vertical',color=['m','y'], label=[\"ML Student\",\"DS Student\"])\n",
    "\n",
    "#plt.hist(ds_age,bins=6,rwidth=0.5, orientation='vertical',color='y',label=\"DS Student\")\n",
    "\n",
    "plt.title(\"Student details\")\n",
    "plt.xlabel(\"Age\")\n",
    "plt.ylabel(\"no of student\")\n",
    "plt.legend()\n",
    "plt.show()"
   ]
  },
  {
   "cell_type": "code",
   "execution_count": null,
   "id": "77cf0e99",
   "metadata": {},
   "outputs": [],
   "source": []
  }
 ],
 "metadata": {
  "kernelspec": {
   "display_name": "Python 3",
   "language": "python",
   "name": "python3"
  },
  "language_info": {
   "codemirror_mode": {
    "name": "ipython",
    "version": 3
   },
   "file_extension": ".py",
   "mimetype": "text/x-python",
   "name": "python",
   "nbconvert_exporter": "python",
   "pygments_lexer": "ipython3",
   "version": "3.8.8"
  }
 },
 "nbformat": 4,
 "nbformat_minor": 5
}
