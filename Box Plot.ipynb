{
 "cells": [
  {
   "cell_type": "code",
   "execution_count": 2,
   "id": "bf04d05e",
   "metadata": {},
   "outputs": [],
   "source": [
    "import pandas as pd\n",
    "import matplotlib.pyplot as plt\n",
    "import numpy as np"
   ]
  },
  {
   "cell_type": "code",
   "execution_count": 3,
   "id": "20cf36da",
   "metadata": {},
   "outputs": [],
   "source": [
    "data=pd.read_csv(\"Admission_Predict.csv\")"
   ]
  },
  {
   "cell_type": "code",
   "execution_count": 4,
   "id": "d013468a",
   "metadata": {},
   "outputs": [
    {
     "data": {
      "text/html": [
       "<div>\n",
       "<style scoped>\n",
       "    .dataframe tbody tr th:only-of-type {\n",
       "        vertical-align: middle;\n",
       "    }\n",
       "\n",
       "    .dataframe tbody tr th {\n",
       "        vertical-align: top;\n",
       "    }\n",
       "\n",
       "    .dataframe thead th {\n",
       "        text-align: right;\n",
       "    }\n",
       "</style>\n",
       "<table border=\"1\" class=\"dataframe\">\n",
       "  <thead>\n",
       "    <tr style=\"text-align: right;\">\n",
       "      <th></th>\n",
       "      <th>Serial No.</th>\n",
       "      <th>Name</th>\n",
       "      <th>CET Score</th>\n",
       "      <th>Edu Percentage</th>\n",
       "      <th>Final Decision</th>\n",
       "    </tr>\n",
       "  </thead>\n",
       "  <tbody>\n",
       "    <tr>\n",
       "      <th>0</th>\n",
       "      <td>1</td>\n",
       "      <td>Aditi</td>\n",
       "      <td>127</td>\n",
       "      <td>85</td>\n",
       "      <td>Admission not Allowed</td>\n",
       "    </tr>\n",
       "    <tr>\n",
       "      <th>1</th>\n",
       "      <td>2</td>\n",
       "      <td>Advitiya</td>\n",
       "      <td>111</td>\n",
       "      <td>75</td>\n",
       "      <td>Admission not Allowed</td>\n",
       "    </tr>\n",
       "    <tr>\n",
       "      <th>2</th>\n",
       "      <td>3</td>\n",
       "      <td>Alagesan</td>\n",
       "      <td>174</td>\n",
       "      <td>99</td>\n",
       "      <td>Admission Allowed</td>\n",
       "    </tr>\n",
       "    <tr>\n",
       "      <th>3</th>\n",
       "      <td>4</td>\n",
       "      <td>Amrish</td>\n",
       "      <td>198</td>\n",
       "      <td>75</td>\n",
       "      <td>Admission Allowed</td>\n",
       "    </tr>\n",
       "    <tr>\n",
       "      <th>4</th>\n",
       "      <td>5</td>\n",
       "      <td>Aprativirya</td>\n",
       "      <td>100</td>\n",
       "      <td>78</td>\n",
       "      <td>Admission not Allowed</td>\n",
       "    </tr>\n",
       "  </tbody>\n",
       "</table>\n",
       "</div>"
      ],
      "text/plain": [
       "   Serial No.          Name  CET Score  Edu Percentage         Final Decision\n",
       "0           1        Aditi         127              85  Admission not Allowed\n",
       "1           2     Advitiya         111              75  Admission not Allowed\n",
       "2           3     Alagesan         174              99      Admission Allowed\n",
       "3           4        Amrish        198              75      Admission Allowed\n",
       "4           5  Aprativirya         100              78  Admission not Allowed"
      ]
     },
     "execution_count": 4,
     "metadata": {},
     "output_type": "execute_result"
    }
   ],
   "source": [
    "data.head()"
   ]
  },
  {
   "cell_type": "code",
   "execution_count": 5,
   "id": "9e87f712",
   "metadata": {},
   "outputs": [
    {
     "data": {
      "text/html": [
       "<div>\n",
       "<style scoped>\n",
       "    .dataframe tbody tr th:only-of-type {\n",
       "        vertical-align: middle;\n",
       "    }\n",
       "\n",
       "    .dataframe tbody tr th {\n",
       "        vertical-align: top;\n",
       "    }\n",
       "\n",
       "    .dataframe thead th {\n",
       "        text-align: right;\n",
       "    }\n",
       "</style>\n",
       "<table border=\"1\" class=\"dataframe\">\n",
       "  <thead>\n",
       "    <tr style=\"text-align: right;\">\n",
       "      <th></th>\n",
       "      <th>Serial No.</th>\n",
       "      <th>Name</th>\n",
       "      <th>CET Score</th>\n",
       "      <th>Edu Percentage</th>\n",
       "      <th>Final Decision</th>\n",
       "    </tr>\n",
       "  </thead>\n",
       "  <tbody>\n",
       "    <tr>\n",
       "      <th>55</th>\n",
       "      <td>56</td>\n",
       "      <td>Mehar</td>\n",
       "      <td>168</td>\n",
       "      <td>68</td>\n",
       "      <td>Admission Allowed</td>\n",
       "    </tr>\n",
       "    <tr>\n",
       "      <th>56</th>\n",
       "      <td>57</td>\n",
       "      <td>Mirai</td>\n",
       "      <td>135</td>\n",
       "      <td>91</td>\n",
       "      <td>Admission not Allowed</td>\n",
       "    </tr>\n",
       "    <tr>\n",
       "      <th>57</th>\n",
       "      <td>58</td>\n",
       "      <td>Mishka</td>\n",
       "      <td>157</td>\n",
       "      <td>93</td>\n",
       "      <td>Admission Allowed</td>\n",
       "    </tr>\n",
       "    <tr>\n",
       "      <th>58</th>\n",
       "      <td>59</td>\n",
       "      <td>Naitee</td>\n",
       "      <td>113</td>\n",
       "      <td>54</td>\n",
       "      <td>Admission not Allowed</td>\n",
       "    </tr>\n",
       "    <tr>\n",
       "      <th>59</th>\n",
       "      <td>60</td>\n",
       "      <td>Navya</td>\n",
       "      <td>134</td>\n",
       "      <td>67</td>\n",
       "      <td>Admission not Allowed</td>\n",
       "    </tr>\n",
       "  </tbody>\n",
       "</table>\n",
       "</div>"
      ],
      "text/plain": [
       "    Serial No.    Name  CET Score  Edu Percentage         Final Decision\n",
       "55          56   Mehar        168              68      Admission Allowed\n",
       "56          57   Mirai        135              91  Admission not Allowed\n",
       "57          58  Mishka        157              93      Admission Allowed\n",
       "58          59  Naitee        113              54  Admission not Allowed\n",
       "59          60   Navya        134              67  Admission not Allowed"
      ]
     },
     "execution_count": 5,
     "metadata": {},
     "output_type": "execute_result"
    }
   ],
   "source": [
    "data.tail()"
   ]
  },
  {
   "cell_type": "code",
   "execution_count": 6,
   "id": "612b2289",
   "metadata": {},
   "outputs": [
    {
     "data": {
      "text/html": [
       "<div>\n",
       "<style scoped>\n",
       "    .dataframe tbody tr th:only-of-type {\n",
       "        vertical-align: middle;\n",
       "    }\n",
       "\n",
       "    .dataframe tbody tr th {\n",
       "        vertical-align: top;\n",
       "    }\n",
       "\n",
       "    .dataframe thead th {\n",
       "        text-align: right;\n",
       "    }\n",
       "</style>\n",
       "<table border=\"1\" class=\"dataframe\">\n",
       "  <thead>\n",
       "    <tr style=\"text-align: right;\">\n",
       "      <th></th>\n",
       "      <th>Serial No.</th>\n",
       "      <th>CET Score</th>\n",
       "      <th>Edu Percentage</th>\n",
       "    </tr>\n",
       "  </thead>\n",
       "  <tbody>\n",
       "    <tr>\n",
       "      <th>count</th>\n",
       "      <td>60.000000</td>\n",
       "      <td>60.000000</td>\n",
       "      <td>60.000000</td>\n",
       "    </tr>\n",
       "    <tr>\n",
       "      <th>mean</th>\n",
       "      <td>30.500000</td>\n",
       "      <td>151.316667</td>\n",
       "      <td>71.333333</td>\n",
       "    </tr>\n",
       "    <tr>\n",
       "      <th>std</th>\n",
       "      <td>17.464249</td>\n",
       "      <td>29.753502</td>\n",
       "      <td>16.792519</td>\n",
       "    </tr>\n",
       "    <tr>\n",
       "      <th>min</th>\n",
       "      <td>1.000000</td>\n",
       "      <td>100.000000</td>\n",
       "      <td>40.000000</td>\n",
       "    </tr>\n",
       "    <tr>\n",
       "      <th>25%</th>\n",
       "      <td>15.750000</td>\n",
       "      <td>127.750000</td>\n",
       "      <td>61.750000</td>\n",
       "    </tr>\n",
       "    <tr>\n",
       "      <th>50%</th>\n",
       "      <td>30.500000</td>\n",
       "      <td>153.000000</td>\n",
       "      <td>73.500000</td>\n",
       "    </tr>\n",
       "    <tr>\n",
       "      <th>75%</th>\n",
       "      <td>45.250000</td>\n",
       "      <td>177.000000</td>\n",
       "      <td>85.250000</td>\n",
       "    </tr>\n",
       "    <tr>\n",
       "      <th>max</th>\n",
       "      <td>60.000000</td>\n",
       "      <td>200.000000</td>\n",
       "      <td>99.000000</td>\n",
       "    </tr>\n",
       "  </tbody>\n",
       "</table>\n",
       "</div>"
      ],
      "text/plain": [
       "       Serial No.   CET Score  Edu Percentage\n",
       "count   60.000000   60.000000       60.000000\n",
       "mean    30.500000  151.316667       71.333333\n",
       "std     17.464249   29.753502       16.792519\n",
       "min      1.000000  100.000000       40.000000\n",
       "25%     15.750000  127.750000       61.750000\n",
       "50%     30.500000  153.000000       73.500000\n",
       "75%     45.250000  177.000000       85.250000\n",
       "max     60.000000  200.000000       99.000000"
      ]
     },
     "execution_count": 6,
     "metadata": {},
     "output_type": "execute_result"
    }
   ],
   "source": [
    "data.describe()"
   ]
  },
  {
   "cell_type": "code",
   "execution_count": 7,
   "id": "33d243ce",
   "metadata": {},
   "outputs": [
    {
     "data": {
      "text/plain": [
       "Index(['Serial No.', 'Name', 'CET Score', 'Edu Percentage', 'Final Decision'], dtype='object')"
      ]
     },
     "execution_count": 7,
     "metadata": {},
     "output_type": "execute_result"
    }
   ],
   "source": [
    "data.columns"
   ]
  },
  {
   "cell_type": "code",
   "execution_count": 10,
   "id": "b686e414",
   "metadata": {},
   "outputs": [],
   "source": [
    "cet=data['CET Score']"
   ]
  },
  {
   "cell_type": "code",
   "execution_count": 14,
   "id": "850522fe",
   "metadata": {},
   "outputs": [
    {
     "data": {
      "text/plain": [
       "{'whiskers': [<matplotlib.lines.Line2D at 0x1b138adf1f0>,\n",
       "  <matplotlib.lines.Line2D at 0x1b138adf550>],\n",
       " 'caps': [<matplotlib.lines.Line2D at 0x1b138adf8b0>,\n",
       "  <matplotlib.lines.Line2D at 0x1b138adfc10>],\n",
       " 'boxes': [<matplotlib.lines.Line2D at 0x1b138acfe50>],\n",
       " 'medians': [<matplotlib.lines.Line2D at 0x1b138adff10>],\n",
       " 'fliers': [<matplotlib.lines.Line2D at 0x1b138aea2b0>],\n",
       " 'means': []}"
      ]
     },
     "execution_count": 14,
     "metadata": {},
     "output_type": "execute_result"
    },
    {
     "data": {
      "image/png": "[encoded data removed]",
      "text/plain": [
       "<Figure size 432x288 with 1 Axes>"
      ]
     },
     "metadata": {
      "needs_background": "light"
     },
     "output_type": "display_data"
    }
   ],
   "source": [
    "plt.boxplot(cet,vert=False)"
   ]
  },
  {
   "cell_type": "code",
   "execution_count": 15,
   "id": "7ed36c2c",
   "metadata": {},
   "outputs": [
    {
     "data": {
      "text/plain": [
       "{'whiskers': [<matplotlib.lines.Line2D at 0x1b138b3acd0>,\n",
       "  <matplotlib.lines.Line2D at 0x1b138b46070>],\n",
       " 'caps': [<matplotlib.lines.Line2D at 0x1b138b463d0>,\n",
       "  <matplotlib.lines.Line2D at 0x1b138b46730>],\n",
       " 'boxes': [<matplotlib.lines.Line2D at 0x1b138b3a970>],\n",
       " 'medians': [<matplotlib.lines.Line2D at 0x1b138b46a90>],\n",
       " 'fliers': [<matplotlib.lines.Line2D at 0x1b138b46df0>],\n",
       " 'means': []}"
      ]
     },
     "execution_count": 15,
     "metadata": {},
     "output_type": "execute_result"
    },
    {
     "data": {
      "image/png": "[encoded data removed]",
      "text/plain": [
       "<Figure size 432x288 with 1 Axes>"
      ]
     },
     "metadata": {
      "needs_background": "light"
     },
     "output_type": "display_data"
    }
   ],
   "source": [
    "plt.boxplot(data['Edu Percentage'],vert=False)"
   ]
  },
  {
   "cell_type": "code",
   "execution_count": null,
   "id": "863c7c1b",
   "metadata": {},
   "outputs": [],
   "source": []
  }
 ],
 "metadata": {
  "kernelspec": {
   "display_name": "Python 3",
   "language": "python",
   "name": "python3"
  },
  "language_info": {
   "codemirror_mode": {
    "name": "ipython",
    "version": 3
   },
   "file_extension": ".py",
   "mimetype": "text/x-python",
   "name": "python",
   "nbconvert_exporter": "python",
   "pygments_lexer": "ipython3",
   "version": "3.8.8"
  }
 },
 "nbformat": 4,
 "nbformat_minor": 5
}
