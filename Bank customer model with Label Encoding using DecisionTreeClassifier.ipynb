{
 "cells": [
  {
   "cell_type": "code",
   "execution_count": 14,
   "id": "3b8ac43a",
   "metadata": {},
   "outputs": [],
   "source": [
    "import pandas as pd \n",
    "from sklearn.tree import DecisionTreeClassifier\n",
    "from sklearn.model_selection import train_test_split\n",
    "from sklearn.metrics import accuracy_score \n",
    "from sklearn.preprocessing import LabelEncoder\n",
    "\n",
    "#load music.csv dataset \n",
    "data=pd.read_excel('Bank_customer_churn_modelling.xlsx')"
   ]
  },
  {
   "cell_type": "code",
   "execution_count": 15,
   "id": "b830dd6b",
   "metadata": {},
   "outputs": [],
   "source": [
    "# Label Encoding\n",
    "le1=LabelEncoder()\n",
    "le2=LabelEncoder()\n",
    "\n",
    "# Encoding geography\n",
    "le1.fit(data.Geography)\n",
    "data.Geography=le1.transform(data.Geography)\n",
    "\n",
    "# Encoding gender\n",
    "le2.fit(data.Gender)\n",
    "data.Gender=le2.transform(data.Gender)"
   ]
  },
  {
   "cell_type": "code",
   "execution_count": 16,
   "id": "59fd356c",
   "metadata": {},
   "outputs": [
    {
     "data": {
      "text/plain": [
       "1.0"
      ]
     },
     "execution_count": 16,
     "metadata": {},
     "output_type": "execute_result"
    }
   ],
   "source": [
    "# create input Dataset \n",
    "X= data.drop(columns=['RowNumber', 'CustomerId', 'Surname', 'Geography','Gender'])\n",
    "# create output dataset\n",
    "y= data['Exited']\n",
    "\n",
    "# Give training and testing dataset to model \n",
    "X_train,X_test,y_train,y_test =train_test_split(X,y,test_size=0.2)\n",
    "\n",
    "#instantiate the DecisionTreeClassifier \n",
    "model= DecisionTreeClassifier()\n",
    "# Train the model with 80% of training data \n",
    "model= model.fit(X_train,y_train)\n",
    "\n",
    "# Test model predtiction  \n",
    "predictions =model.predict(X_test)\n",
    "\n",
    "#check the accuracy score  \n",
    "score = accuracy_score(y_test,predictions)\n",
    "score"
   ]
  },
  {
   "cell_type": "code",
   "execution_count": null,
   "id": "9ea6c4fa",
   "metadata": {},
   "outputs": [],
   "source": []
  }
 ],
 "metadata": {
  "kernelspec": {
   "display_name": "Python 3",
   "language": "python",
   "name": "python3"
  },
  "language_info": {
   "codemirror_mode": {
    "name": "ipython",
    "version": 3
   },
   "file_extension": ".py",
   "mimetype": "text/x-python",
   "name": "python",
   "nbconvert_exporter": "python",
   "pygments_lexer": "ipython3",
   "version": "3.8.8"
  }
 },
 "nbformat": 4,
 "nbformat_minor": 5
}
