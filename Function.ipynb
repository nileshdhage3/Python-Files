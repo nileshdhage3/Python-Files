{
 "cells": [
  {
   "cell_type": "code",
   "execution_count": 8,
   "id": "77335e61",
   "metadata": {},
   "outputs": [
    {
     "name": "stdout",
     "output_type": "stream",
     "text": [
      "I am first call to user defined function!\n",
      "Again second call to the same function\n"
     ]
    }
   ],
   "source": [
    "def  printme(str):\n",
    "#\"This print a passed string into the function\"\n",
    "    print(str)\n",
    "    return;\n",
    "printme(\"I am first call to user defined function!\")\n",
    "printme(\"Again second call to the same function\")"
   ]
  },
  {
   "cell_type": "code",
   "execution_count": 13,
   "id": "af5d60ef",
   "metadata": {},
   "outputs": [
    {
     "name": "stdout",
     "output_type": "stream",
     "text": [
      "Name is  Nilesh\n",
      "Age is  35\n"
     ]
    }
   ],
   "source": [
    "def printinfo(name=\"Nilesh\",age=35):\n",
    "    print(\"Name is \",name)\n",
    "    print(\"Age is \",age)\n",
    "    return;\n",
    "#printinfo(\"Miki\",50)\n",
    "#printinfo(name=\"Miki\")\n",
    "printinfo()"
   ]
  },
  {
   "cell_type": "code",
   "execution_count": null,
   "id": "f197c950",
   "metadata": {},
   "outputs": [],
   "source": [
    "#Kaggle.com - use to create a code with new notebook and to store the code - same like github"
   ]
  }
 ],
 "metadata": {
  "kernelspec": {
   "display_name": "Python 3",
   "language": "python",
   "name": "python3"
  },
  "language_info": {
   "codemirror_mode": {
    "name": "ipython",
    "version": 3
   },
   "file_extension": ".py",
   "mimetype": "text/x-python",
   "name": "python",
   "nbconvert_exporter": "python",
   "pygments_lexer": "ipython3",
   "version": "3.8.8"
  }
 },
 "nbformat": 4,
 "nbformat_minor": 5
}
