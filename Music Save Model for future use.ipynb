{
 "cells": [
  {
   "cell_type": "code",
   "execution_count": 1,
   "id": "bb765307",
   "metadata": {},
   "outputs": [
    {
     "data": {
      "text/plain": [
       "1.0"
      ]
     },
     "execution_count": 1,
     "metadata": {},
     "output_type": "execute_result"
    }
   ],
   "source": [
    "# import pandas\n",
    "import pandas as pd \n",
    "#import DecisionTreeClassifier algorithm from sklearn \n",
    "from sklearn.tree import DecisionTreeClassifier\n",
    "import joblib as jb\n",
    "\n",
    "#select train test split from sklearn \n",
    "from sklearn.model_selection import train_test_split\n",
    "\n",
    "#import scoremetrics\n",
    "from sklearn.metrics import accuracy_score \n",
    "\n",
    "#load music.csv dataset \n",
    "music_data=pd.read_csv('music.csv')\n",
    "# create input Dataset \n",
    "X= music_data.drop(columns=['genre'])\n",
    "# create output dataset\n",
    "y= music_data['genre']\n",
    "\n",
    "# Give training and tsting dataset to model \n",
    "X_train,X_test,y_train,y_test =train_test_split(X,y,test_size=0.2)\n",
    "\n",
    "\n",
    "#instantiate the DecisionTreeClassifier \n",
    "model= DecisionTreeClassifier()\n",
    "# Train the model with 80% of training data \n",
    "model= model.fit(X_train,y_train)\n",
    "\n",
    "# To save the trained model\n",
    "jb.dump(model,'music-recommender.joblib')\n",
    "\n",
    "\n",
    "# Test model predtiction  \n",
    "predictions =model.predict(X_test)\n",
    "\n",
    "#accouracy_score function returns value between 0 to 1 \n",
    "score = accuracy_score(y_test,predictions)\n",
    "#check the accuracy score  \n",
    "score"
   ]
  },
  {
   "cell_type": "code",
   "execution_count": null,
   "id": "ef2ed9eb",
   "metadata": {},
   "outputs": [],
   "source": []
  }
 ],
 "metadata": {
  "kernelspec": {
   "display_name": "Python 3",
   "language": "python",
   "name": "python3"
  },
  "language_info": {
   "codemirror_mode": {
    "name": "ipython",
    "version": 3
   },
   "file_extension": ".py",
   "mimetype": "text/x-python",
   "name": "python",
   "nbconvert_exporter": "python",
   "pygments_lexer": "ipython3",
   "version": "3.8.8"
  }
 },
 "nbformat": 4,
 "nbformat_minor": 5
}
